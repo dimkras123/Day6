{
 "cells": [
  {
   "cell_type": "markdown",
   "metadata": {},
   "source": [
    "# Reverse Polish Calculator\n",
    "\n",
    "## Input\n",
    "\n",
    "A string containg digits and symbols, for example `1 1 +` or `5 3 4 * +`\n",
    "\n",
    "## Algorithm\n",
    "\n",
    "1. split input by the empty string: `' '`\n",
    "2. for each element in the input_list do:\n",
    "  - if input_element is a number -> append to stack\n",
    "  - if input_element is an operation, take (pop) last 2 element and implement this operation\n",
    "  - append this new_element on the stack\n",
    "  - countique this algorith untill the last input_element is reached\n",
    "  - return - the last calculated value"
   ]
  },
  {
   "cell_type": "code",
   "execution_count": 59,
   "metadata": {},
   "outputs": [
    {
     "name": "stdout",
     "output_type": "stream",
     "text": [
      "70\n",
      "25\n",
      "+\n",
      "95\n",
      "[]\n"
     ]
    }
   ],
   "source": [
    "input_string = '25 70 +'\n",
    "\n",
    "def rpc(data):\n",
    "    input_array = input_string.split()\n",
    "    array_stack = []\n",
    "    for num in input_array:\n",
    "        if num.isdigit():\n",
    "            array_stack.append(int(num))\n",
    "        else:\n",
    "            element_one = 0\n",
    "            element_two = 0\n",
    "            element_one = int(array_stack.pop())\n",
    "            element_two = int(array_stack.pop())\n",
    "            operation = num\n",
    "            print(element_one)\n",
    "            print(element_two)\n",
    "            print(num)\n",
    "            summe = 0\n",
    "            summe = element_one + element_two\n",
    "            print(summe)\n",
    "    print(array_stack)\n",
    "\n",
    "\n",
    "rpc(input_string)"
   ]
  },
  {
   "cell_type": "code",
   "execution_count": null,
   "metadata": {},
   "outputs": [],
   "source": []
  },
  {
   "cell_type": "code",
   "execution_count": null,
   "metadata": {},
   "outputs": [],
   "source": []
  }
 ],
 "metadata": {
  "kernelspec": {
   "display_name": "Python 3",
   "language": "python",
   "name": "python3"
  },
  "language_info": {
   "codemirror_mode": {
    "name": "ipython",
    "version": 3
   },
   "file_extension": ".py",
   "mimetype": "text/x-python",
   "name": "python",
   "nbconvert_exporter": "python",
   "pygments_lexer": "ipython3",
   "version": "3.7.3"
  }
 },
 "nbformat": 4,
 "nbformat_minor": 2
}
