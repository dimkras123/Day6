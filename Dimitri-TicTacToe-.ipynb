{
 "cells": [
  {
   "cell_type": "code",
   "execution_count": null,
   "metadata": {},
   "outputs": [],
   "source": [
    "board = [\"7\", \"8\", \"9\", \"4\", \"5\", \"6\", \"1\", \"2\", \"3\"]\n",
    "\n",
    "def check(board):\n",
    "\n",
    "    if ((board[0] == board[1] == board[2]) or\n",
    "        (board[3] == board[4] == board[5]) or\n",
    "        (board[6] == board[7] == board[8]) or\n",
    "        (board[0] == board[3] == board[6]) or\n",
    "        (board[1] == board[4] == board[7]) or\n",
    "        (board[2] == board[5] == board[8]) or\n",
    "        (board[0] == board[4] == board[8]) or\n",
    "        (board[6] == board[4] == board[2])):\n",
    "        return True\n",
    "    else:\n",
    "        return False\n",
    "    \n",
    "counter = 2\n",
    "selection = 10\n",
    "\n",
    "while check(board) == False and counter < 11:\n",
    "    if counter % 2 == 0:\n",
    "        while (selection not in board or selection == (\"X\" or \"O\")):\n",
    "            selection = input(\"Player 1: \")\n",
    "        board[board.index(selection)] = \"X\"\n",
    "        counter += 1\n",
    "    else:\n",
    "        while (selection not in board or selection == (\"X\" or \"O\")):\n",
    "            selection = input(\"Player 2: \")\n",
    "        board[board.index(selection)] = \"O\"\n",
    "        counter += 1\n",
    "        \n",
    "if check(board) == False and counter == 11:\n",
    "    print(\"No winner!\")\n",
    "elif counter % 2 == 0:\n",
    "    print(\"Player 2. You won!\")\n",
    "else:\n",
    "    print(\"Player 1. You won!\")"
   ]
  }
 ],
 "metadata": {
  "kernelspec": {
   "display_name": "Python 3",
   "language": "python",
   "name": "python3"
  },
  "language_info": {
   "codemirror_mode": {
    "name": "ipython",
    "version": 3
   },
   "file_extension": ".py",
   "mimetype": "text/x-python",
   "name": "python",
   "nbconvert_exporter": "python",
   "pygments_lexer": "ipython3",
   "version": "3.7.3"
  }
 },
 "nbformat": 4,
 "nbformat_minor": 2
}
